{
 "cells": [
  {
   "cell_type": "markdown",
   "metadata": {},
   "source": [
    "# Normalization"
   ]
  },
  {
   "cell_type": "code",
   "execution_count": 1,
   "metadata": {},
   "outputs": [],
   "source": [
    "import pandas as pd\n",
    "import matplotlib.pyplot as plt\n",
    "import numpy as np\n",
    "import warnings; warnings.filterwarnings('ignore')"
   ]
  },
  {
   "cell_type": "code",
   "execution_count": 2,
   "metadata": {},
   "outputs": [
    {
     "name": "stdout",
     "output_type": "stream",
     "text": [
      "255 87 84 84\n"
     ]
    },
    {
     "data": {
      "text/html": [
       "<div>\n",
       "<style scoped>\n",
       "    .dataframe tbody tr th:only-of-type {\n",
       "        vertical-align: middle;\n",
       "    }\n",
       "\n",
       "    .dataframe tbody tr th {\n",
       "        vertical-align: top;\n",
       "    }\n",
       "\n",
       "    .dataframe thead th {\n",
       "        text-align: right;\n",
       "    }\n",
       "</style>\n",
       "<table border=\"1\" class=\"dataframe\">\n",
       "  <thead>\n",
       "    <tr style=\"text-align: right;\">\n",
       "      <th></th>\n",
       "      <th>geschwindigkeit</th>\n",
       "      <th>tonlage</th>\n",
       "      <th>schallstaerke</th>\n",
       "    </tr>\n",
       "  </thead>\n",
       "  <tbody>\n",
       "    <tr>\n",
       "      <th>0</th>\n",
       "      <td>87</td>\n",
       "      <td>257</td>\n",
       "      <td>33</td>\n",
       "    </tr>\n",
       "    <tr>\n",
       "      <th>1</th>\n",
       "      <td>84</td>\n",
       "      <td>227</td>\n",
       "      <td>33</td>\n",
       "    </tr>\n",
       "    <tr>\n",
       "      <th>2</th>\n",
       "      <td>82</td>\n",
       "      <td>231</td>\n",
       "      <td>34</td>\n",
       "    </tr>\n",
       "    <tr>\n",
       "      <th>3</th>\n",
       "      <td>79</td>\n",
       "      <td>240</td>\n",
       "      <td>37</td>\n",
       "    </tr>\n",
       "    <tr>\n",
       "      <th>4</th>\n",
       "      <td>76</td>\n",
       "      <td>232</td>\n",
       "      <td>41</td>\n",
       "    </tr>\n",
       "  </tbody>\n",
       "</table>\n",
       "</div>"
      ],
      "text/plain": [
       "   geschwindigkeit  tonlage  schallstaerke\n",
       "0               87      257             33\n",
       "1               84      227             33\n",
       "2               82      231             34\n",
       "3               79      240             37\n",
       "4               76      232             41"
      ]
     },
     "execution_count": 2,
     "metadata": {},
     "output_type": "execute_result"
    }
   ],
   "source": [
    "df1 = pd.read_csv('../data/E_B02_Sequenz_1.csv', delimiter=';')\n",
    "df2 = pd.read_csv('../data/E_B02_Sequenz_2.csv', delimiter=';')\n",
    "df3 = pd.read_csv('../data/E_B02_Sequenz_3.csv', delimiter=';')\n",
    "\n",
    "df = df1.append(df2).append(df3)\n",
    "print(len(df), len(df1), len(df2), len(df3))\n",
    "\n",
    "\n",
    "df.head()"
   ]
  },
  {
   "cell_type": "code",
   "execution_count": 3,
   "metadata": {},
   "outputs": [],
   "source": [
    "from sklearn.preprocessing import MinMaxScaler\n",
    "\n",
    "speed_scaler = MinMaxScaler().fit(df['geschwindigkeit'].to_numpy().reshape(-1, 1))"
   ]
  },
  {
   "cell_type": "code",
   "execution_count": 4,
   "metadata": {},
   "outputs": [
    {
     "data": {
      "text/plain": [
       "(array([[112.6]]), 96.55686274509804, array([[0.59381443]]))"
      ]
     },
     "execution_count": 4,
     "metadata": {},
     "output_type": "execute_result"
    }
   ],
   "source": [
    "mean_speed_last_ten = df1.rolling(window=10)['geschwindigkeit'].mean().to_numpy()[-1].reshape(-1, 1)\n",
    "mean_speed_last_ten, df['geschwindigkeit'].mean(), speed_scaler.transform(mean_speed_last_ten)"
   ]
  },
  {
   "cell_type": "markdown",
   "metadata": {},
   "source": [
    "We are 59% confident that the speed is \"high\". Which gives us two basic measures:\n",
    "\n",
    "    m1(A, Ü, W, F) = 0.8538, m1(Omega) = 0.146\n",
    "    m2(F, E) = 0.146 = 0.8538"
   ]
  },
  {
   "cell_type": "markdown",
   "metadata": {},
   "source": [
    "# Portions in Low, Normal, High "
   ]
  },
  {
   "cell_type": "markdown",
   "metadata": {},
   "source": [
    "Portion of values above upper quartile in last ten seconds."
   ]
  },
  {
   "cell_type": "code",
   "execution_count": 9,
   "metadata": {
    "scrolled": true
   },
   "outputs": [
    {
     "data": {
      "text/html": [
       "<div>\n",
       "<style scoped>\n",
       "    .dataframe tbody tr th:only-of-type {\n",
       "        vertical-align: middle;\n",
       "    }\n",
       "\n",
       "    .dataframe tbody tr th {\n",
       "        vertical-align: top;\n",
       "    }\n",
       "\n",
       "    .dataframe thead th {\n",
       "        text-align: right;\n",
       "    }\n",
       "</style>\n",
       "<table border=\"1\" class=\"dataframe\">\n",
       "  <thead>\n",
       "    <tr style=\"text-align: right;\">\n",
       "      <th></th>\n",
       "      <th>geschwindigkeit</th>\n",
       "      <th>tonlage</th>\n",
       "      <th>schallstaerke</th>\n",
       "    </tr>\n",
       "  </thead>\n",
       "  <tbody>\n",
       "    <tr>\n",
       "      <th>77</th>\n",
       "      <td>115</td>\n",
       "      <td>449</td>\n",
       "      <td>49</td>\n",
       "    </tr>\n",
       "    <tr>\n",
       "      <th>78</th>\n",
       "      <td>118</td>\n",
       "      <td>527</td>\n",
       "      <td>48</td>\n",
       "    </tr>\n",
       "    <tr>\n",
       "      <th>79</th>\n",
       "      <td>119</td>\n",
       "      <td>521</td>\n",
       "      <td>48</td>\n",
       "    </tr>\n",
       "    <tr>\n",
       "      <th>80</th>\n",
       "      <td>116</td>\n",
       "      <td>516</td>\n",
       "      <td>45</td>\n",
       "    </tr>\n",
       "    <tr>\n",
       "      <th>81</th>\n",
       "      <td>113</td>\n",
       "      <td>466</td>\n",
       "      <td>46</td>\n",
       "    </tr>\n",
       "    <tr>\n",
       "      <th>82</th>\n",
       "      <td>109</td>\n",
       "      <td>439</td>\n",
       "      <td>46</td>\n",
       "    </tr>\n",
       "    <tr>\n",
       "      <th>83</th>\n",
       "      <td>109</td>\n",
       "      <td>452</td>\n",
       "      <td>47</td>\n",
       "    </tr>\n",
       "    <tr>\n",
       "      <th>84</th>\n",
       "      <td>111</td>\n",
       "      <td>436</td>\n",
       "      <td>49</td>\n",
       "    </tr>\n",
       "    <tr>\n",
       "      <th>85</th>\n",
       "      <td>111</td>\n",
       "      <td>432</td>\n",
       "      <td>44</td>\n",
       "    </tr>\n",
       "    <tr>\n",
       "      <th>86</th>\n",
       "      <td>105</td>\n",
       "      <td>411</td>\n",
       "      <td>38</td>\n",
       "    </tr>\n",
       "  </tbody>\n",
       "</table>\n",
       "</div>"
      ],
      "text/plain": [
       "    geschwindigkeit  tonlage  schallstaerke\n",
       "77              115      449             49\n",
       "78              118      527             48\n",
       "79              119      521             48\n",
       "80              116      516             45\n",
       "81              113      466             46\n",
       "82              109      439             46\n",
       "83              109      452             47\n",
       "84              111      436             49\n",
       "85              111      432             44\n",
       "86              105      411             38"
      ]
     },
     "execution_count": 9,
     "metadata": {},
     "output_type": "execute_result"
    }
   ],
   "source": [
    "schema = set(df.columns)\n",
    "\n",
    "last_window = df1[-10:]\n",
    "last_window"
   ]
  },
  {
   "cell_type": "code",
   "execution_count": 126,
   "metadata": {},
   "outputs": [
    {
     "data": {
      "text/html": [
       "<div>\n",
       "<style scoped>\n",
       "    .dataframe tbody tr th:only-of-type {\n",
       "        vertical-align: middle;\n",
       "    }\n",
       "\n",
       "    .dataframe tbody tr th {\n",
       "        vertical-align: top;\n",
       "    }\n",
       "\n",
       "    .dataframe thead th {\n",
       "        text-align: right;\n",
       "    }\n",
       "</style>\n",
       "<table border=\"1\" class=\"dataframe\">\n",
       "  <thead>\n",
       "    <tr style=\"text-align: right;\">\n",
       "      <th></th>\n",
       "      <th></th>\n",
       "      <th>low</th>\n",
       "      <th>normal</th>\n",
       "      <th>high</th>\n",
       "    </tr>\n",
       "    <tr>\n",
       "      <th>window</th>\n",
       "      <th>col</th>\n",
       "      <th></th>\n",
       "      <th></th>\n",
       "      <th></th>\n",
       "    </tr>\n",
       "  </thead>\n",
       "  <tbody>\n",
       "    <tr>\n",
       "      <th rowspan=\"3\" valign=\"top\">0</th>\n",
       "      <th>geschwindigkeit</th>\n",
       "      <td>NaN</td>\n",
       "      <td>NaN</td>\n",
       "      <td>NaN</td>\n",
       "    </tr>\n",
       "    <tr>\n",
       "      <th>schallstaerke</th>\n",
       "      <td>NaN</td>\n",
       "      <td>NaN</td>\n",
       "      <td>NaN</td>\n",
       "    </tr>\n",
       "    <tr>\n",
       "      <th>tonlage</th>\n",
       "      <td>NaN</td>\n",
       "      <td>NaN</td>\n",
       "      <td>NaN</td>\n",
       "    </tr>\n",
       "    <tr>\n",
       "      <th rowspan=\"2\" valign=\"top\">1</th>\n",
       "      <th>geschwindigkeit</th>\n",
       "      <td>NaN</td>\n",
       "      <td>NaN</td>\n",
       "      <td>NaN</td>\n",
       "    </tr>\n",
       "    <tr>\n",
       "      <th>schallstaerke</th>\n",
       "      <td>NaN</td>\n",
       "      <td>NaN</td>\n",
       "      <td>NaN</td>\n",
       "    </tr>\n",
       "    <tr>\n",
       "      <th>...</th>\n",
       "      <th>...</th>\n",
       "      <td>...</td>\n",
       "      <td>...</td>\n",
       "      <td>...</td>\n",
       "    </tr>\n",
       "    <tr>\n",
       "      <th rowspan=\"2\" valign=\"top\">85</th>\n",
       "      <th>geschwindigkeit</th>\n",
       "      <td>0.0</td>\n",
       "      <td>0.3</td>\n",
       "      <td>0.7</td>\n",
       "    </tr>\n",
       "    <tr>\n",
       "      <th>tonlage</th>\n",
       "      <td>0.0</td>\n",
       "      <td>0.0</td>\n",
       "      <td>1.0</td>\n",
       "    </tr>\n",
       "    <tr>\n",
       "      <th rowspan=\"3\" valign=\"top\">86</th>\n",
       "      <th>geschwindigkeit</th>\n",
       "      <td>0.0</td>\n",
       "      <td>0.3</td>\n",
       "      <td>0.7</td>\n",
       "    </tr>\n",
       "    <tr>\n",
       "      <th>tonlage</th>\n",
       "      <td>0.0</td>\n",
       "      <td>0.0</td>\n",
       "      <td>1.0</td>\n",
       "    </tr>\n",
       "    <tr>\n",
       "      <th>schallstaerke</th>\n",
       "      <td>0.0</td>\n",
       "      <td>0.8</td>\n",
       "      <td>0.2</td>\n",
       "    </tr>\n",
       "  </tbody>\n",
       "</table>\n",
       "<p>261 rows × 3 columns</p>\n",
       "</div>"
      ],
      "text/plain": [
       "                        low  normal  high\n",
       "window col                               \n",
       "0      geschwindigkeit  NaN     NaN   NaN\n",
       "       schallstaerke    NaN     NaN   NaN\n",
       "       tonlage          NaN     NaN   NaN\n",
       "1      geschwindigkeit  NaN     NaN   NaN\n",
       "       schallstaerke    NaN     NaN   NaN\n",
       "...                     ...     ...   ...\n",
       "85     geschwindigkeit  0.0     0.3   0.7\n",
       "       tonlage          0.0     0.0   1.0\n",
       "86     geschwindigkeit  0.0     0.3   0.7\n",
       "       tonlage          0.0     0.0   1.0\n",
       "       schallstaerke    0.0     0.8   0.2\n",
       "\n",
       "[261 rows x 3 columns]"
      ]
     },
     "execution_count": 126,
     "metadata": {},
     "output_type": "execute_result"
    }
   ],
   "source": [
    "rolling = df1.rolling(window=10)\n",
    "\n",
    "windows = pd.DataFrame(columns=['low', 'normal', 'high', 'col'])\n",
    "\n",
    "for col in df:\n",
    "    def portion_in_lower_quartile(w):\n",
    "        return np.sum(\n",
    "                1 for x in w \n",
    "                if x <= df[col].quantile(0.25)\n",
    "        ) / len(w)\n",
    "    \n",
    "    def portion_in_upper_quartile(w):\n",
    "        return np.sum(\n",
    "                1 for x in w \n",
    "                if x >= df[col].quantile(0.75)\n",
    "        ) / len(w)\n",
    "    \n",
    "    def portion_in_between_quartiles(w):\n",
    "        return np.sum(\n",
    "                1 for x in w \n",
    "                if (x > df[col].quantile(0.25)\n",
    "                    and x < df[col].quantile(0.75))\n",
    "        ) / len(w)\n",
    "    \n",
    "    \n",
    "    col_windows = pd.DataFrame()\n",
    "    col_windows['low'] = rolling[col].agg(portion_in_lower_quartile)\n",
    "    col_windows['normal'] = rolling[col].agg(portion_in_between_quartiles)\n",
    "    col_windows['high'] = rolling[col].agg(portion_in_upper_quartile)\n",
    "    col_windows['col'] = [col] * len(col_windows)\n",
    "    windows = windows.append(col_windows)\n",
    "\n",
    "windows = windows.sort_index()\n",
    "index = pd.MultiIndex.from_arrays([windows.index, windows.col], \n",
    "                                  names=('window', 'col'))\n",
    "windows = windows.drop('col', axis=1).set_index(index)\n",
    "windows"
   ]
  },
  {
   "cell_type": "code",
   "execution_count": 137,
   "metadata": {},
   "outputs": [
    {
     "data": {
      "text/plain": [
       "<matplotlib.axes._subplots.AxesSubplot at 0x12697d048>"
      ]
     },
     "execution_count": 137,
     "metadata": {},
     "output_type": "execute_result"
    },
    {
     "data": {
      "image/png": "[encoded data removed]",
      "text/plain": [
       "<Figure size 432x288 with 1 Axes>"
      ]
     },
     "metadata": {
      "needs_background": "light"
     },
     "output_type": "display_data"
    }
   ],
   "source": [
    "windows.groupby('col').mean().plot(kind='bar')"
   ]
  },
  {
   "cell_type": "markdown",
   "metadata": {},
   "source": [
    "Problem! Tonlage never low??"
   ]
  },
  {
   "cell_type": "markdown",
   "metadata": {},
   "source": [
    "Example Window:"
   ]
  },
  {
   "cell_type": "code",
   "execution_count": 128,
   "metadata": {},
   "outputs": [
    {
     "data": {
      "text/html": [
       "<div>\n",
       "<style scoped>\n",
       "    .dataframe tbody tr th:only-of-type {\n",
       "        vertical-align: middle;\n",
       "    }\n",
       "\n",
       "    .dataframe tbody tr th {\n",
       "        vertical-align: top;\n",
       "    }\n",
       "\n",
       "    .dataframe thead th {\n",
       "        text-align: right;\n",
       "    }\n",
       "</style>\n",
       "<table border=\"1\" class=\"dataframe\">\n",
       "  <thead>\n",
       "    <tr style=\"text-align: right;\">\n",
       "      <th></th>\n",
       "      <th>low</th>\n",
       "      <th>normal</th>\n",
       "      <th>high</th>\n",
       "    </tr>\n",
       "    <tr>\n",
       "      <th>col</th>\n",
       "      <th></th>\n",
       "      <th></th>\n",
       "      <th></th>\n",
       "    </tr>\n",
       "  </thead>\n",
       "  <tbody>\n",
       "    <tr>\n",
       "      <th>schallstaerke</th>\n",
       "      <td>0.0</td>\n",
       "      <td>0.8</td>\n",
       "      <td>0.2</td>\n",
       "    </tr>\n",
       "    <tr>\n",
       "      <th>geschwindigkeit</th>\n",
       "      <td>0.0</td>\n",
       "      <td>0.3</td>\n",
       "      <td>0.7</td>\n",
       "    </tr>\n",
       "    <tr>\n",
       "      <th>tonlage</th>\n",
       "      <td>0.0</td>\n",
       "      <td>0.0</td>\n",
       "      <td>1.0</td>\n",
       "    </tr>\n",
       "  </tbody>\n",
       "</table>\n",
       "</div>"
      ],
      "text/plain": [
       "                 low  normal  high\n",
       "col                               \n",
       "schallstaerke    0.0     0.8   0.2\n",
       "geschwindigkeit  0.0     0.3   0.7\n",
       "tonlage          0.0     0.0   1.0"
      ]
     },
     "execution_count": 128,
     "metadata": {},
     "output_type": "execute_result"
    }
   ],
   "source": [
    "windows.loc[85]"
   ]
  },
  {
   "cell_type": "markdown",
   "metadata": {},
   "source": [
    "This gives us three basic measures:\n",
    "\n",
    "    # high , low, normal\n",
    "    mSpeed(A, Ü, W, F) = 0.7, mSpeed(F, E) = 0, mSpeed(Omega) = 0.3\n",
    "    mPitch(A, Ü, W, F) = 1.0, mPitch(E, T) = 0, mPitch(Omega) = 0\n",
    "    mIntensity(Ü, W, F) = 0.2, mIntensity(T) = 0, mIntensity(Omega) = 0.8"
   ]
  },
  {
   "cell_type": "code",
   "execution_count": 123,
   "metadata": {},
   "outputs": [
    {
     "data": {
      "image/png": "[encoded data removed]",
      "text/plain": [
       "<Figure size 1080x360 with 6 Axes>"
      ]
     },
     "metadata": {
      "needs_background": "light"
     },
     "output_type": "display_data"
    }
   ],
   "source": [
    "dfs = (df1, df2, df3)\n",
    "vals = tuple(map(lambda df: df['geschwindigkeit'], dfs))\n",
    "windows = tuple(map(lambda df: df.rolling(window=10)['geschwindigkeit'],\n",
    "                   dfs))\n",
    "\n",
    "fig, axes = plt.subplots(nrows=2, ncols=3, figsize=(15,5),\n",
    "                         sharey='row', sharex='col')\n",
    "val_axes, window_axes = axes\n",
    "                         \n",
    "for val, ax in zip(vals, val_axes):\n",
    "    val.plot(ax=ax)\n",
    "\n",
    "for window, ax in zip(windows, window_axes):\n",
    "    window.mean().fillna(0).plot(ax=ax)\n",
    "    ax.axhline(df['geschwindigkeit'].quantile(0.75))"
   ]
  },
  {
   "cell_type": "code",
   "execution_count": null,
   "metadata": {},
   "outputs": [],
   "source": []
  }
 ],
 "metadata": {
  "kernelspec": {
   "display_name": "Python (venv)",
   "language": "python",
   "name": "venv"
  },
  "language_info": {
   "codemirror_mode": {
    "name": "ipython",
    "version": 3
   },
   "file_extension": ".py",
   "mimetype": "text/x-python",
   "name": "python",
   "nbconvert_exporter": "python",
   "pygments_lexer": "ipython3",
   "version": "3.7.1"
  }
 },
 "nbformat": 4,
 "nbformat_minor": 2
}
